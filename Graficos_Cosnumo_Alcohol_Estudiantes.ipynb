{
  "cells": [
    {
      "cell_type": "markdown",
      "metadata": {
        "id": "view-in-github",
        "colab_type": "text"
      },
      "source": [
        "<a href=\"https://colab.research.google.com/github/Ludmi0611/Analisis-Consumo-Alcohol-Estudiantes/blob/main/Graficos_Cosnumo_Alcohol_Estudiantes.ipynb\" target=\"_parent\"><img src=\"https://colab.research.google.com/assets/colab-badge.svg\" alt=\"Open In Colab\"/></a>"
      ]
    },
    {
      "cell_type": "markdown",
      "id": "f741fe40",
      "metadata": {
        "id": "f741fe40"
      },
      "source": [
        "***\n",
        "# Student Alcohol Consumption\n",
        "***\n",
        "\n",
        "* **sex:** Sexo del estudiante (binario: 'F' - female or 'M' - male)\n",
        "* **age:** Edad del estudiante (desde los 15 hasta los 22 anios)\n",
        "* **address:** Dirección - Rural o Urbana (binario: R o U)\n",
        "* **Pstatus:** Padres viviendo juntos o separados (binario: T o A)\n",
        "* **studytime:** Tiempo de estudio semanal (Entre 1 y 10 horas)\n",
        "* **activities:** Actividades extracurriculares (binario: sí o no)\n",
        "* **higher:** Quiere cursar estudios superiores (binario: sí o no)\n",
        "* **internet:** Acceso a Internet en casa (binario: sí o no)\n",
        "* **famrel:** Calidad de las relaciones familiares (de 1 *-muy mala-* a 5 *-excelente-*)\n",
        "* **freetime:** Tiempo libre después de la escuela (de 1 *-muy bajo-* a 5 *-muy alto-*)\n",
        "* **Dalc:** Consumo de alcohol en la jornada laboral (de 1 *-muy bajo-* a 5 *-muy alto-*)\n",
        "* **Walc:** Consumo de alcohol durante el fin de semana (de 1 *-muy bajo-* a 5 *-muy alto-*)\n",
        "\n",
        "\n",
        "## Gráfico de Barras\n",
        "\n",
        "Es necesario que se haga un análisis que quede escrito en una celda de texto por cada punto.\n",
        "\n",
        "a) Hacer un **gráfico de barras** que permita ver el promedio de consumo de alcohol en jornada laboral por calidad de relación.\n",
        "\n",
        "b) Hacer un **gráfico de barras** que permita ver el promedio de consumo de alcohol en fines de semana por calidad de relación.\n",
        "\n",
        "c) Hacer un **gráfico de barras** que permita ver el promedio de consumo de alcohol en jornada laboral por cantidad de tiempo libre.\n",
        "\n",
        "d) Hacer un **gráfico de barras** que permita ver el promedio de consumo de alcohol en fines de semana por cantidad de tiempo libre.\n",
        "\n",
        "e) Realizar el ejercicio c y d pero discriminando por Pstatus.\n",
        "\n",
        "\n",
        "## Histograma\n",
        "\n",
        "Es necesario que se haga un análisis que quede escrito en una celda de texto por cada punto.\n",
        "\n",
        "a) Analizar la **distribución** de la variable age.\n",
        "\n",
        "b) Analizar la **distribución** de la variable studytime.\n",
        "\n",
        "\n",
        "## Diagrama de densidad\n",
        "\n",
        "Es necesario que se haga un análisis que quede escrito en una celda de texto por cada punto.\n",
        "\n",
        "a) Analizar la **distribución** de la variable age.\n",
        "\n",
        "b) Analizar la **distribución** de la variable studytime.\n",
        "\n",
        "\n",
        "## Boxplot\n",
        "\n",
        "Es necesario que se haga un análisis que quede escrito en una celda de texto por cada punto.\n",
        "\n",
        "a) Realizar un **boxplot** con la variable age.\n",
        "\n",
        "b) Realizar un **boxplot** con la variable age, separando por sexo.\n",
        "\n",
        "\n",
        "## Violin plot\n",
        "\n",
        "Es necesario que se haga un análisis que quede escrito en una celda de texto por cada punto.\n",
        "\n",
        "a) Realizar un boxplot con la variable age.\n",
        "\n",
        "b) Realizar un boxplot con la variable age, separando por sexo.\n",
        "\n",
        "\n",
        "***\n",
        "\n",
        "***"
      ]
    },
    {
      "cell_type": "code",
      "execution_count": 1,
      "id": "9b8da880",
      "metadata": {
        "id": "9b8da880"
      },
      "outputs": [],
      "source": [
        "import pandas as pd\n",
        "\n",
        "import numpy as np\n",
        "import seaborn as sns\n",
        "sns.set_style(\"darkgrid\")"
      ]
    },
    {
      "cell_type": "code",
      "source": [
        "from google.colab import drive\n",
        "drive.mount('/content/drive')"
      ],
      "metadata": {
        "colab": {
          "base_uri": "https://localhost:8080/"
        },
        "id": "VO9rlRZqBZxw",
        "outputId": "26b29575-e3ac-4d40-9c09-f0cb5983c72a"
      },
      "id": "VO9rlRZqBZxw",
      "execution_count": 2,
      "outputs": [
        {
          "output_type": "stream",
          "name": "stdout",
          "text": [
            "Mounted at /content/drive\n"
          ]
        }
      ]
    },
    {
      "cell_type": "code",
      "execution_count": 3,
      "id": "b09862a7",
      "metadata": {
        "id": "b09862a7",
        "colab": {
          "base_uri": "https://localhost:8080/",
          "height": 424
        },
        "outputId": "c5a839e7-e833-44fe-be42-01cc666c4ad5"
      },
      "outputs": [
        {
          "output_type": "execute_result",
          "data": {
            "text/plain": [
              "    sex  age address Pstatus  studytime activities higher internet  famrel  \\\n",
              "0     F   18       U       A          2         no    yes       no       4   \n",
              "1     F   17       U       T          2         no    yes      yes       5   \n",
              "2     F   15       U       T          2         no    yes      yes       4   \n",
              "3     F   15       U       T          3        yes    yes      yes       3   \n",
              "4     F   16       U       T          2         no    yes       no       4   \n",
              "..   ..  ...     ...     ...        ...        ...    ...      ...     ...   \n",
              "390   M   20       U       A          2         no    yes       no       5   \n",
              "391   M   17       U       T          1         no    yes      yes       2   \n",
              "392   M   21       R       T          1         no    yes       no       5   \n",
              "393   M   18       R       T          1         no    yes      yes       4   \n",
              "394   M   19       U       T          1         no    yes      yes       3   \n",
              "\n",
              "     freetime  Walc  Dalc  \n",
              "0           3     1     1  \n",
              "1           3     1     1  \n",
              "2           3     3     2  \n",
              "3           2     1     1  \n",
              "4           3     2     1  \n",
              "..        ...   ...   ...  \n",
              "390         5     5     4  \n",
              "391         4     4     3  \n",
              "392         5     3     3  \n",
              "393         4     4     3  \n",
              "394         2     3     3  \n",
              "\n",
              "[395 rows x 12 columns]"
            ],
            "text/html": [
              "\n",
              "  <div id=\"df-2443ec63-74a5-451c-bd15-b9010b7fc1c2\" class=\"colab-df-container\">\n",
              "    <div>\n",
              "<style scoped>\n",
              "    .dataframe tbody tr th:only-of-type {\n",
              "        vertical-align: middle;\n",
              "    }\n",
              "\n",
              "    .dataframe tbody tr th {\n",
              "        vertical-align: top;\n",
              "    }\n",
              "\n",
              "    .dataframe thead th {\n",
              "        text-align: right;\n",
              "    }\n",
              "</style>\n",
              "<table border=\"1\" class=\"dataframe\">\n",
              "  <thead>\n",
              "    <tr style=\"text-align: right;\">\n",
              "      <th></th>\n",
              "      <th>sex</th>\n",
              "      <th>age</th>\n",
              "      <th>address</th>\n",
              "      <th>Pstatus</th>\n",
              "      <th>studytime</th>\n",
              "      <th>activities</th>\n",
              "      <th>higher</th>\n",
              "      <th>internet</th>\n",
              "      <th>famrel</th>\n",
              "      <th>freetime</th>\n",
              "      <th>Walc</th>\n",
              "      <th>Dalc</th>\n",
              "    </tr>\n",
              "  </thead>\n",
              "  <tbody>\n",
              "    <tr>\n",
              "      <th>0</th>\n",
              "      <td>F</td>\n",
              "      <td>18</td>\n",
              "      <td>U</td>\n",
              "      <td>A</td>\n",
              "      <td>2</td>\n",
              "      <td>no</td>\n",
              "      <td>yes</td>\n",
              "      <td>no</td>\n",
              "      <td>4</td>\n",
              "      <td>3</td>\n",
              "      <td>1</td>\n",
              "      <td>1</td>\n",
              "    </tr>\n",
              "    <tr>\n",
              "      <th>1</th>\n",
              "      <td>F</td>\n",
              "      <td>17</td>\n",
              "      <td>U</td>\n",
              "      <td>T</td>\n",
              "      <td>2</td>\n",
              "      <td>no</td>\n",
              "      <td>yes</td>\n",
              "      <td>yes</td>\n",
              "      <td>5</td>\n",
              "      <td>3</td>\n",
              "      <td>1</td>\n",
              "      <td>1</td>\n",
              "    </tr>\n",
              "    <tr>\n",
              "      <th>2</th>\n",
              "      <td>F</td>\n",
              "      <td>15</td>\n",
              "      <td>U</td>\n",
              "      <td>T</td>\n",
              "      <td>2</td>\n",
              "      <td>no</td>\n",
              "      <td>yes</td>\n",
              "      <td>yes</td>\n",
              "      <td>4</td>\n",
              "      <td>3</td>\n",
              "      <td>3</td>\n",
              "      <td>2</td>\n",
              "    </tr>\n",
              "    <tr>\n",
              "      <th>3</th>\n",
              "      <td>F</td>\n",
              "      <td>15</td>\n",
              "      <td>U</td>\n",
              "      <td>T</td>\n",
              "      <td>3</td>\n",
              "      <td>yes</td>\n",
              "      <td>yes</td>\n",
              "      <td>yes</td>\n",
              "      <td>3</td>\n",
              "      <td>2</td>\n",
              "      <td>1</td>\n",
              "      <td>1</td>\n",
              "    </tr>\n",
              "    <tr>\n",
              "      <th>4</th>\n",
              "      <td>F</td>\n",
              "      <td>16</td>\n",
              "      <td>U</td>\n",
              "      <td>T</td>\n",
              "      <td>2</td>\n",
              "      <td>no</td>\n",
              "      <td>yes</td>\n",
              "      <td>no</td>\n",
              "      <td>4</td>\n",
              "      <td>3</td>\n",
              "      <td>2</td>\n",
              "      <td>1</td>\n",
              "    </tr>\n",
              "    <tr>\n",
              "      <th>...</th>\n",
              "      <td>...</td>\n",
              "      <td>...</td>\n",
              "      <td>...</td>\n",
              "      <td>...</td>\n",
              "      <td>...</td>\n",
              "      <td>...</td>\n",
              "      <td>...</td>\n",
              "      <td>...</td>\n",
              "      <td>...</td>\n",
              "      <td>...</td>\n",
              "      <td>...</td>\n",
              "      <td>...</td>\n",
              "    </tr>\n",
              "    <tr>\n",
              "      <th>390</th>\n",
              "      <td>M</td>\n",
              "      <td>20</td>\n",
              "      <td>U</td>\n",
              "      <td>A</td>\n",
              "      <td>2</td>\n",
              "      <td>no</td>\n",
              "      <td>yes</td>\n",
              "      <td>no</td>\n",
              "      <td>5</td>\n",
              "      <td>5</td>\n",
              "      <td>5</td>\n",
              "      <td>4</td>\n",
              "    </tr>\n",
              "    <tr>\n",
              "      <th>391</th>\n",
              "      <td>M</td>\n",
              "      <td>17</td>\n",
              "      <td>U</td>\n",
              "      <td>T</td>\n",
              "      <td>1</td>\n",
              "      <td>no</td>\n",
              "      <td>yes</td>\n",
              "      <td>yes</td>\n",
              "      <td>2</td>\n",
              "      <td>4</td>\n",
              "      <td>4</td>\n",
              "      <td>3</td>\n",
              "    </tr>\n",
              "    <tr>\n",
              "      <th>392</th>\n",
              "      <td>M</td>\n",
              "      <td>21</td>\n",
              "      <td>R</td>\n",
              "      <td>T</td>\n",
              "      <td>1</td>\n",
              "      <td>no</td>\n",
              "      <td>yes</td>\n",
              "      <td>no</td>\n",
              "      <td>5</td>\n",
              "      <td>5</td>\n",
              "      <td>3</td>\n",
              "      <td>3</td>\n",
              "    </tr>\n",
              "    <tr>\n",
              "      <th>393</th>\n",
              "      <td>M</td>\n",
              "      <td>18</td>\n",
              "      <td>R</td>\n",
              "      <td>T</td>\n",
              "      <td>1</td>\n",
              "      <td>no</td>\n",
              "      <td>yes</td>\n",
              "      <td>yes</td>\n",
              "      <td>4</td>\n",
              "      <td>4</td>\n",
              "      <td>4</td>\n",
              "      <td>3</td>\n",
              "    </tr>\n",
              "    <tr>\n",
              "      <th>394</th>\n",
              "      <td>M</td>\n",
              "      <td>19</td>\n",
              "      <td>U</td>\n",
              "      <td>T</td>\n",
              "      <td>1</td>\n",
              "      <td>no</td>\n",
              "      <td>yes</td>\n",
              "      <td>yes</td>\n",
              "      <td>3</td>\n",
              "      <td>2</td>\n",
              "      <td>3</td>\n",
              "      <td>3</td>\n",
              "    </tr>\n",
              "  </tbody>\n",
              "</table>\n",
              "<p>395 rows × 12 columns</p>\n",
              "</div>\n",
              "    <div class=\"colab-df-buttons\">\n",
              "\n",
              "  <div class=\"colab-df-container\">\n",
              "    <button class=\"colab-df-convert\" onclick=\"convertToInteractive('df-2443ec63-74a5-451c-bd15-b9010b7fc1c2')\"\n",
              "            title=\"Convert this dataframe to an interactive table.\"\n",
              "            style=\"display:none;\">\n",
              "\n",
              "  <svg xmlns=\"http://www.w3.org/2000/svg\" height=\"24px\" viewBox=\"0 -960 960 960\">\n",
              "    <path d=\"M120-120v-720h720v720H120Zm60-500h600v-160H180v160Zm220 220h160v-160H400v160Zm0 220h160v-160H400v160ZM180-400h160v-160H180v160Zm440 0h160v-160H620v160ZM180-180h160v-160H180v160Zm440 0h160v-160H620v160Z\"/>\n",
              "  </svg>\n",
              "    </button>\n",
              "\n",
              "  <style>\n",
              "    .colab-df-container {\n",
              "      display:flex;\n",
              "      gap: 12px;\n",
              "    }\n",
              "\n",
              "    .colab-df-convert {\n",
              "      background-color: #E8F0FE;\n",
              "      border: none;\n",
              "      border-radius: 50%;\n",
              "      cursor: pointer;\n",
              "      display: none;\n",
              "      fill: #1967D2;\n",
              "      height: 32px;\n",
              "      padding: 0 0 0 0;\n",
              "      width: 32px;\n",
              "    }\n",
              "\n",
              "    .colab-df-convert:hover {\n",
              "      background-color: #E2EBFA;\n",
              "      box-shadow: 0px 1px 2px rgba(60, 64, 67, 0.3), 0px 1px 3px 1px rgba(60, 64, 67, 0.15);\n",
              "      fill: #174EA6;\n",
              "    }\n",
              "\n",
              "    .colab-df-buttons div {\n",
              "      margin-bottom: 4px;\n",
              "    }\n",
              "\n",
              "    [theme=dark] .colab-df-convert {\n",
              "      background-color: #3B4455;\n",
              "      fill: #D2E3FC;\n",
              "    }\n",
              "\n",
              "    [theme=dark] .colab-df-convert:hover {\n",
              "      background-color: #434B5C;\n",
              "      box-shadow: 0px 1px 3px 1px rgba(0, 0, 0, 0.15);\n",
              "      filter: drop-shadow(0px 1px 2px rgba(0, 0, 0, 0.3));\n",
              "      fill: #FFFFFF;\n",
              "    }\n",
              "  </style>\n",
              "\n",
              "    <script>\n",
              "      const buttonEl =\n",
              "        document.querySelector('#df-2443ec63-74a5-451c-bd15-b9010b7fc1c2 button.colab-df-convert');\n",
              "      buttonEl.style.display =\n",
              "        google.colab.kernel.accessAllowed ? 'block' : 'none';\n",
              "\n",
              "      async function convertToInteractive(key) {\n",
              "        const element = document.querySelector('#df-2443ec63-74a5-451c-bd15-b9010b7fc1c2');\n",
              "        const dataTable =\n",
              "          await google.colab.kernel.invokeFunction('convertToInteractive',\n",
              "                                                    [key], {});\n",
              "        if (!dataTable) return;\n",
              "\n",
              "        const docLinkHtml = 'Like what you see? Visit the ' +\n",
              "          '<a target=\"_blank\" href=https://colab.research.google.com/notebooks/data_table.ipynb>data table notebook</a>'\n",
              "          + ' to learn more about interactive tables.';\n",
              "        element.innerHTML = '';\n",
              "        dataTable['output_type'] = 'display_data';\n",
              "        await google.colab.output.renderOutput(dataTable, element);\n",
              "        const docLink = document.createElement('div');\n",
              "        docLink.innerHTML = docLinkHtml;\n",
              "        element.appendChild(docLink);\n",
              "      }\n",
              "    </script>\n",
              "  </div>\n",
              "\n",
              "\n",
              "<div id=\"df-7f70a825-a426-4632-82cc-671cdd870ae4\">\n",
              "  <button class=\"colab-df-quickchart\" onclick=\"quickchart('df-7f70a825-a426-4632-82cc-671cdd870ae4')\"\n",
              "            title=\"Suggest charts\"\n",
              "            style=\"display:none;\">\n",
              "\n",
              "<svg xmlns=\"http://www.w3.org/2000/svg\" height=\"24px\"viewBox=\"0 0 24 24\"\n",
              "     width=\"24px\">\n",
              "    <g>\n",
              "        <path d=\"M19 3H5c-1.1 0-2 .9-2 2v14c0 1.1.9 2 2 2h14c1.1 0 2-.9 2-2V5c0-1.1-.9-2-2-2zM9 17H7v-7h2v7zm4 0h-2V7h2v10zm4 0h-2v-4h2v4z\"/>\n",
              "    </g>\n",
              "</svg>\n",
              "  </button>\n",
              "\n",
              "<style>\n",
              "  .colab-df-quickchart {\n",
              "      --bg-color: #E8F0FE;\n",
              "      --fill-color: #1967D2;\n",
              "      --hover-bg-color: #E2EBFA;\n",
              "      --hover-fill-color: #174EA6;\n",
              "      --disabled-fill-color: #AAA;\n",
              "      --disabled-bg-color: #DDD;\n",
              "  }\n",
              "\n",
              "  [theme=dark] .colab-df-quickchart {\n",
              "      --bg-color: #3B4455;\n",
              "      --fill-color: #D2E3FC;\n",
              "      --hover-bg-color: #434B5C;\n",
              "      --hover-fill-color: #FFFFFF;\n",
              "      --disabled-bg-color: #3B4455;\n",
              "      --disabled-fill-color: #666;\n",
              "  }\n",
              "\n",
              "  .colab-df-quickchart {\n",
              "    background-color: var(--bg-color);\n",
              "    border: none;\n",
              "    border-radius: 50%;\n",
              "    cursor: pointer;\n",
              "    display: none;\n",
              "    fill: var(--fill-color);\n",
              "    height: 32px;\n",
              "    padding: 0;\n",
              "    width: 32px;\n",
              "  }\n",
              "\n",
              "  .colab-df-quickchart:hover {\n",
              "    background-color: var(--hover-bg-color);\n",
              "    box-shadow: 0 1px 2px rgba(60, 64, 67, 0.3), 0 1px 3px 1px rgba(60, 64, 67, 0.15);\n",
              "    fill: var(--button-hover-fill-color);\n",
              "  }\n",
              "\n",
              "  .colab-df-quickchart-complete:disabled,\n",
              "  .colab-df-quickchart-complete:disabled:hover {\n",
              "    background-color: var(--disabled-bg-color);\n",
              "    fill: var(--disabled-fill-color);\n",
              "    box-shadow: none;\n",
              "  }\n",
              "\n",
              "  .colab-df-spinner {\n",
              "    border: 2px solid var(--fill-color);\n",
              "    border-color: transparent;\n",
              "    border-bottom-color: var(--fill-color);\n",
              "    animation:\n",
              "      spin 1s steps(1) infinite;\n",
              "  }\n",
              "\n",
              "  @keyframes spin {\n",
              "    0% {\n",
              "      border-color: transparent;\n",
              "      border-bottom-color: var(--fill-color);\n",
              "      border-left-color: var(--fill-color);\n",
              "    }\n",
              "    20% {\n",
              "      border-color: transparent;\n",
              "      border-left-color: var(--fill-color);\n",
              "      border-top-color: var(--fill-color);\n",
              "    }\n",
              "    30% {\n",
              "      border-color: transparent;\n",
              "      border-left-color: var(--fill-color);\n",
              "      border-top-color: var(--fill-color);\n",
              "      border-right-color: var(--fill-color);\n",
              "    }\n",
              "    40% {\n",
              "      border-color: transparent;\n",
              "      border-right-color: var(--fill-color);\n",
              "      border-top-color: var(--fill-color);\n",
              "    }\n",
              "    60% {\n",
              "      border-color: transparent;\n",
              "      border-right-color: var(--fill-color);\n",
              "    }\n",
              "    80% {\n",
              "      border-color: transparent;\n",
              "      border-right-color: var(--fill-color);\n",
              "      border-bottom-color: var(--fill-color);\n",
              "    }\n",
              "    90% {\n",
              "      border-color: transparent;\n",
              "      border-bottom-color: var(--fill-color);\n",
              "    }\n",
              "  }\n",
              "</style>\n",
              "\n",
              "  <script>\n",
              "    async function quickchart(key) {\n",
              "      const quickchartButtonEl =\n",
              "        document.querySelector('#' + key + ' button');\n",
              "      quickchartButtonEl.disabled = true;  // To prevent multiple clicks.\n",
              "      quickchartButtonEl.classList.add('colab-df-spinner');\n",
              "      try {\n",
              "        const charts = await google.colab.kernel.invokeFunction(\n",
              "            'suggestCharts', [key], {});\n",
              "      } catch (error) {\n",
              "        console.error('Error during call to suggestCharts:', error);\n",
              "      }\n",
              "      quickchartButtonEl.classList.remove('colab-df-spinner');\n",
              "      quickchartButtonEl.classList.add('colab-df-quickchart-complete');\n",
              "    }\n",
              "    (() => {\n",
              "      let quickchartButtonEl =\n",
              "        document.querySelector('#df-7f70a825-a426-4632-82cc-671cdd870ae4 button');\n",
              "      quickchartButtonEl.style.display =\n",
              "        google.colab.kernel.accessAllowed ? 'block' : 'none';\n",
              "    })();\n",
              "  </script>\n",
              "</div>\n",
              "\n",
              "  <div id=\"id_b6743c59-b8ba-42d0-b030-52e4bd2261db\">\n",
              "    <style>\n",
              "      .colab-df-generate {\n",
              "        background-color: #E8F0FE;\n",
              "        border: none;\n",
              "        border-radius: 50%;\n",
              "        cursor: pointer;\n",
              "        display: none;\n",
              "        fill: #1967D2;\n",
              "        height: 32px;\n",
              "        padding: 0 0 0 0;\n",
              "        width: 32px;\n",
              "      }\n",
              "\n",
              "      .colab-df-generate:hover {\n",
              "        background-color: #E2EBFA;\n",
              "        box-shadow: 0px 1px 2px rgba(60, 64, 67, 0.3), 0px 1px 3px 1px rgba(60, 64, 67, 0.15);\n",
              "        fill: #174EA6;\n",
              "      }\n",
              "\n",
              "      [theme=dark] .colab-df-generate {\n",
              "        background-color: #3B4455;\n",
              "        fill: #D2E3FC;\n",
              "      }\n",
              "\n",
              "      [theme=dark] .colab-df-generate:hover {\n",
              "        background-color: #434B5C;\n",
              "        box-shadow: 0px 1px 3px 1px rgba(0, 0, 0, 0.15);\n",
              "        filter: drop-shadow(0px 1px 2px rgba(0, 0, 0, 0.3));\n",
              "        fill: #FFFFFF;\n",
              "      }\n",
              "    </style>\n",
              "    <button class=\"colab-df-generate\" onclick=\"generateWithVariable('df')\"\n",
              "            title=\"Generate code using this dataframe.\"\n",
              "            style=\"display:none;\">\n",
              "\n",
              "  <svg xmlns=\"http://www.w3.org/2000/svg\" height=\"24px\"viewBox=\"0 0 24 24\"\n",
              "       width=\"24px\">\n",
              "    <path d=\"M7,19H8.4L18.45,9,17,7.55,7,17.6ZM5,21V16.75L18.45,3.32a2,2,0,0,1,2.83,0l1.4,1.43a1.91,1.91,0,0,1,.58,1.4,1.91,1.91,0,0,1-.58,1.4L9.25,21ZM18.45,9,17,7.55Zm-12,3A5.31,5.31,0,0,0,4.9,8.1,5.31,5.31,0,0,0,1,6.5,5.31,5.31,0,0,0,4.9,4.9,5.31,5.31,0,0,0,6.5,1,5.31,5.31,0,0,0,8.1,4.9,5.31,5.31,0,0,0,12,6.5,5.46,5.46,0,0,0,6.5,12Z\"/>\n",
              "  </svg>\n",
              "    </button>\n",
              "    <script>\n",
              "      (() => {\n",
              "      const buttonEl =\n",
              "        document.querySelector('#id_b6743c59-b8ba-42d0-b030-52e4bd2261db button.colab-df-generate');\n",
              "      buttonEl.style.display =\n",
              "        google.colab.kernel.accessAllowed ? 'block' : 'none';\n",
              "\n",
              "      buttonEl.onclick = () => {\n",
              "        google.colab.notebook.generateWithVariable('df');\n",
              "      }\n",
              "      })();\n",
              "    </script>\n",
              "  </div>\n",
              "\n",
              "    </div>\n",
              "  </div>\n"
            ],
            "application/vnd.google.colaboratory.intrinsic+json": {
              "type": "dataframe",
              "variable_name": "df",
              "summary": "{\n  \"name\": \"df\",\n  \"rows\": 395,\n  \"fields\": [\n    {\n      \"column\": \"sex\",\n      \"properties\": {\n        \"dtype\": \"category\",\n        \"num_unique_values\": 2,\n        \"samples\": [\n          \"M\",\n          \"F\"\n        ],\n        \"semantic_type\": \"\",\n        \"description\": \"\"\n      }\n    },\n    {\n      \"column\": \"age\",\n      \"properties\": {\n        \"dtype\": \"number\",\n        \"std\": 1,\n        \"min\": 15,\n        \"max\": 22,\n        \"num_unique_values\": 8,\n        \"samples\": [\n          17,\n          22\n        ],\n        \"semantic_type\": \"\",\n        \"description\": \"\"\n      }\n    },\n    {\n      \"column\": \"address\",\n      \"properties\": {\n        \"dtype\": \"category\",\n        \"num_unique_values\": 2,\n        \"samples\": [\n          \"R\",\n          \"U\"\n        ],\n        \"semantic_type\": \"\",\n        \"description\": \"\"\n      }\n    },\n    {\n      \"column\": \"Pstatus\",\n      \"properties\": {\n        \"dtype\": \"category\",\n        \"num_unique_values\": 2,\n        \"samples\": [\n          \"T\",\n          \"A\"\n        ],\n        \"semantic_type\": \"\",\n        \"description\": \"\"\n      }\n    },\n    {\n      \"column\": \"studytime\",\n      \"properties\": {\n        \"dtype\": \"number\",\n        \"std\": 0,\n        \"min\": 1,\n        \"max\": 4,\n        \"num_unique_values\": 4,\n        \"samples\": [\n          3,\n          4\n        ],\n        \"semantic_type\": \"\",\n        \"description\": \"\"\n      }\n    },\n    {\n      \"column\": \"activities\",\n      \"properties\": {\n        \"dtype\": \"category\",\n        \"num_unique_values\": 2,\n        \"samples\": [\n          \"yes\",\n          \"no\"\n        ],\n        \"semantic_type\": \"\",\n        \"description\": \"\"\n      }\n    },\n    {\n      \"column\": \"higher\",\n      \"properties\": {\n        \"dtype\": \"category\",\n        \"num_unique_values\": 2,\n        \"samples\": [\n          \"no\",\n          \"yes\"\n        ],\n        \"semantic_type\": \"\",\n        \"description\": \"\"\n      }\n    },\n    {\n      \"column\": \"internet\",\n      \"properties\": {\n        \"dtype\": \"category\",\n        \"num_unique_values\": 2,\n        \"samples\": [\n          \"yes\",\n          \"no\"\n        ],\n        \"semantic_type\": \"\",\n        \"description\": \"\"\n      }\n    },\n    {\n      \"column\": \"famrel\",\n      \"properties\": {\n        \"dtype\": \"number\",\n        \"std\": 0,\n        \"min\": 1,\n        \"max\": 5,\n        \"num_unique_values\": 5,\n        \"samples\": [\n          5,\n          2\n        ],\n        \"semantic_type\": \"\",\n        \"description\": \"\"\n      }\n    },\n    {\n      \"column\": \"freetime\",\n      \"properties\": {\n        \"dtype\": \"number\",\n        \"std\": 0,\n        \"min\": 1,\n        \"max\": 5,\n        \"num_unique_values\": 5,\n        \"samples\": [\n          2,\n          5\n        ],\n        \"semantic_type\": \"\",\n        \"description\": \"\"\n      }\n    },\n    {\n      \"column\": \"Walc\",\n      \"properties\": {\n        \"dtype\": \"number\",\n        \"std\": 1,\n        \"min\": 1,\n        \"max\": 5,\n        \"num_unique_values\": 5,\n        \"samples\": [\n          3,\n          5\n        ],\n        \"semantic_type\": \"\",\n        \"description\": \"\"\n      }\n    },\n    {\n      \"column\": \"Dalc\",\n      \"properties\": {\n        \"dtype\": \"number\",\n        \"std\": 0,\n        \"min\": 1,\n        \"max\": 5,\n        \"num_unique_values\": 5,\n        \"samples\": [\n          2,\n          4\n        ],\n        \"semantic_type\": \"\",\n        \"description\": \"\"\n      }\n    }\n  ]\n}"
            }
          },
          "metadata": {},
          "execution_count": 3
        }
      ],
      "source": [
        "ruta= '/content/drive/MyDrive/Pandas- Eca Capacitaciones/student_AC.csv'\n",
        "df= pd.read_csv(ruta)\n",
        "df"
      ]
    },
    {
      "cell_type": "markdown",
      "id": "3201ca73",
      "metadata": {
        "id": "3201ca73"
      },
      "source": [
        "## Gráfico de Barras\n",
        "***\n",
        "\n",
        "Es necesario que se haga un análisis que quede escrito en una celda de texto por cada punto.\n",
        "\n",
        "#### a) Hacer un **gráfico de barras** que permita ver el promedio de consumo de alcohol en jornada laboral por calidad de relación."
      ]
    },
    {
      "cell_type": "code",
      "execution_count": 4,
      "id": "a287f75c",
      "metadata": {
        "id": "a287f75c",
        "colab": {
          "base_uri": "https://localhost:8080/",
          "height": 553
        },
        "outputId": "94535cee-5afd-4868-9d42-16f46d4bbfa1"
      },
      "outputs": [
        {
          "output_type": "stream",
          "name": "stderr",
          "text": [
            "<ipython-input-4-afe3caa16f78>:1: FutureWarning: \n",
            "\n",
            "Passing `palette` without assigning `hue` is deprecated and will be removed in v0.14.0. Assign the `x` variable to `hue` and set `legend=False` for the same effect.\n",
            "\n",
            "  sns.barplot(x='famrel', y='Dalc', estimator=np.mean, data=df, palette=\"viridis\")\n"
          ]
        },
        {
          "output_type": "execute_result",
          "data": {
            "text/plain": [
              "<Axes: xlabel='famrel', ylabel='Dalc'>"
            ]
          },
          "metadata": {},
          "execution_count": 4
        },
        {
          "output_type": "display_data",
          "data": {
            "text/plain": [
              "<Figure size 640x480 with 1 Axes>"
            ],
            "image/png": "[encoded data removed]"
          },
          "metadata": {}
        }
      ],
      "source": [
        "sns.barplot(x='famrel', y='Dalc', estimator=np.mean, data=df, palette=\"viridis\")"
      ]
    },
    {
      "cell_type": "markdown",
      "id": "487d14fc",
      "metadata": {
        "id": "487d14fc"
      },
      "source": [
        "Respuesta:"
      ]
    },
    {
      "cell_type": "markdown",
      "source": [
        "Se puede observar que mientras mas mala sea la relacion familiar del estudiante mayor es el consumo de alcohol los dias laborales medidos en promedio."
      ],
      "metadata": {
        "id": "O2gfepKUDQus"
      },
      "id": "O2gfepKUDQus"
    },
    {
      "cell_type": "markdown",
      "id": "d2f75bcb",
      "metadata": {
        "id": "d2f75bcb"
      },
      "source": [
        "#### b) Hacer un **gráfico de barras** que permita ver el promedio de consumo de alcohol en fines de semana por calidad de relación."
      ]
    },
    {
      "cell_type": "code",
      "execution_count": 6,
      "id": "72f879f9",
      "metadata": {
        "id": "72f879f9",
        "colab": {
          "base_uri": "https://localhost:8080/",
          "height": 553
        },
        "outputId": "99b268a3-f864-4ff0-e2af-4a86d506a60a"
      },
      "outputs": [
        {
          "output_type": "stream",
          "name": "stderr",
          "text": [
            "<ipython-input-6-63e4fb9e8b54>:1: FutureWarning: \n",
            "\n",
            "Passing `palette` without assigning `hue` is deprecated and will be removed in v0.14.0. Assign the `x` variable to `hue` and set `legend=False` for the same effect.\n",
            "\n",
            "  sns.barplot(x='famrel', y='Walc', estimator= np.mean, data=df, palette='plasma')\n"
          ]
        },
        {
          "output_type": "execute_result",
          "data": {
            "text/plain": [
              "<Axes: xlabel='famrel', ylabel='Walc'>"
            ]
          },
          "metadata": {},
          "execution_count": 6
        },
        {
          "output_type": "display_data",
          "data": {
            "text/plain": [
              "<Figure size 640x480 with 1 Axes>"
            ],
            "image/png": "[encoded data removed]"
          },
          "metadata": {}
        }
      ],
      "source": [
        "sns.barplot(x='famrel', y='Walc', estimator= np.mean, data=df, palette='plasma')"
      ]
    },
    {
      "cell_type": "markdown",
      "id": "cef936d7",
      "metadata": {
        "id": "cef936d7"
      },
      "source": [
        "Respuesta:"
      ]
    },
    {
      "cell_type": "markdown",
      "source": [
        "Se puede observar que en promedio hay mayor consumo de alcohol los fines de semana por parte de los estudiantes que tienen una mala relacion familiar."
      ],
      "metadata": {
        "id": "HHz-Poh8D3iC"
      },
      "id": "HHz-Poh8D3iC"
    },
    {
      "cell_type": "markdown",
      "id": "cb45cb2d",
      "metadata": {
        "id": "cb45cb2d"
      },
      "source": [
        "#### c) Hacer un **gráfico de barras** que permita ver el promedio de consumo de alcohol en jornada laboral por cantidad de tiempo libre."
      ]
    },
    {
      "cell_type": "code",
      "execution_count": 8,
      "id": "a6cc7277",
      "metadata": {
        "id": "a6cc7277",
        "colab": {
          "base_uri": "https://localhost:8080/",
          "height": 553
        },
        "outputId": "f149161d-6c1a-4473-dcc6-2dbe7e24be0b"
      },
      "outputs": [
        {
          "output_type": "stream",
          "name": "stderr",
          "text": [
            "<ipython-input-8-d6612c6fa566>:1: FutureWarning: \n",
            "\n",
            "Passing `palette` without assigning `hue` is deprecated and will be removed in v0.14.0. Assign the `x` variable to `hue` and set `legend=False` for the same effect.\n",
            "\n",
            "  sns.barplot(x= 'freetime', y='Dalc', estimator=np.mean, data=df, palette='coolwarm')\n"
          ]
        },
        {
          "output_type": "execute_result",
          "data": {
            "text/plain": [
              "<Axes: xlabel='freetime', ylabel='Dalc'>"
            ]
          },
          "metadata": {},
          "execution_count": 8
        },
        {
          "output_type": "display_data",
          "data": {
            "text/plain": [
              "<Figure size 640x480 with 1 Axes>"
            ],
            "image/png": "[encoded data removed]"
          },
          "metadata": {}
        }
      ],
      "source": [
        "sns.barplot(x= 'freetime', y='Dalc', estimator=np.mean, data=df, palette='coolwarm')"
      ]
    },
    {
      "cell_type": "markdown",
      "id": "33a0f782",
      "metadata": {
        "id": "33a0f782"
      },
      "source": [
        "Respuesta:"
      ]
    },
    {
      "cell_type": "markdown",
      "source": [
        "Se observa que en promedio los estudiantes que tienen mayor tiempo libre consumen mas alcohol los dias de semana."
      ],
      "metadata": {
        "id": "tYqCZUJ5EaMx"
      },
      "id": "tYqCZUJ5EaMx"
    },
    {
      "cell_type": "markdown",
      "id": "d5d48278",
      "metadata": {
        "id": "d5d48278"
      },
      "source": [
        "#### d) Hacer un **gráfico de barras** que permita ver el promedio de consumo de alcohol en fines de semana por cantidad de tiempo libre."
      ]
    },
    {
      "cell_type": "code",
      "execution_count": 9,
      "id": "8b0ffb58",
      "metadata": {
        "id": "8b0ffb58",
        "colab": {
          "base_uri": "https://localhost:8080/",
          "height": 553
        },
        "outputId": "fef6cfb3-fb6d-4ba8-af3d-7042e09eb9f4"
      },
      "outputs": [
        {
          "output_type": "stream",
          "name": "stderr",
          "text": [
            "<ipython-input-9-01a6c8b1ce0b>:1: FutureWarning: \n",
            "\n",
            "Passing `palette` without assigning `hue` is deprecated and will be removed in v0.14.0. Assign the `x` variable to `hue` and set `legend=False` for the same effect.\n",
            "\n",
            "  sns.barplot(x='freetime', y='Walc', estimator= np.mean, data=df, palette=\"pastel\")\n"
          ]
        },
        {
          "output_type": "execute_result",
          "data": {
            "text/plain": [
              "<Axes: xlabel='freetime', ylabel='Walc'>"
            ]
          },
          "metadata": {},
          "execution_count": 9
        },
        {
          "output_type": "display_data",
          "data": {
            "text/plain": [
              "<Figure size 640x480 with 1 Axes>"
            ],
            "image/png": "[encoded data removed]"
          },
          "metadata": {}
        }
      ],
      "source": [
        "sns.barplot(x='freetime', y='Walc', estimator= np.mean, data=df, palette=\"pastel\")"
      ]
    },
    {
      "cell_type": "markdown",
      "id": "3aa0b909",
      "metadata": {
        "id": "3aa0b909"
      },
      "source": [
        "Respuesta:"
      ]
    },
    {
      "cell_type": "markdown",
      "source": [
        "Tambien se puede visualizar que mientras mas tiempo libre tengan los estudiantes en promedio mas alcohol consumen los fines de semana."
      ],
      "metadata": {
        "id": "2RucRIXAE2yx"
      },
      "id": "2RucRIXAE2yx"
    },
    {
      "cell_type": "markdown",
      "id": "300b1548",
      "metadata": {
        "id": "300b1548"
      },
      "source": [
        "#### e) Realizar el ejercicio c y d pero discriminando por Pstatus."
      ]
    },
    {
      "cell_type": "code",
      "execution_count": 27,
      "id": "87ea4345",
      "metadata": {
        "id": "87ea4345",
        "colab": {
          "base_uri": "https://localhost:8080/",
          "height": 466
        },
        "outputId": "cd4c211f-9b02-45e2-f722-55e4b060411c"
      },
      "outputs": [
        {
          "output_type": "execute_result",
          "data": {
            "text/plain": [
              "<Axes: xlabel='freetime', ylabel='Dalc'>"
            ]
          },
          "metadata": {},
          "execution_count": 27
        },
        {
          "output_type": "display_data",
          "data": {
            "text/plain": [
              "<Figure size 640x480 with 1 Axes>"
            ],
            "image/png": "[encoded data removed]"
          },
          "metadata": {}
        }
      ],
      "source": [
        "sns.barplot(x= 'freetime', y='Dalc', estimator=np.mean, hue='Pstatus', data=df, palette=['#4d194d', '#9381ff'])"
      ]
    },
    {
      "cell_type": "markdown",
      "source": [
        "Se visualiza que los estudiantes que sus padres estan juntos tienden a consumir menos alcohol en promedio los dias de semana, igualmente cabe destacar que no es mucha la diferencia con respecto a aquellos estudiantes los cuales sus padres estan separados. Estos se visualizan en relacion al tiempo libre que poseen"
      ],
      "metadata": {
        "id": "WBXt2x4oFO4Q"
      },
      "id": "WBXt2x4oFO4Q"
    },
    {
      "cell_type": "code",
      "source": [
        "sns.barplot(x='freetime', y='Walc', estimator=np.mean, hue='Pstatus', data=df, palette=['#ffafcc', '#a2d2ff'])"
      ],
      "metadata": {
        "colab": {
          "base_uri": "https://localhost:8080/",
          "height": 466
        },
        "id": "muknelooF6Pq",
        "outputId": "0183d57e-2d7d-4598-d33c-85e1acfa7ca9"
      },
      "id": "muknelooF6Pq",
      "execution_count": 13,
      "outputs": [
        {
          "output_type": "execute_result",
          "data": {
            "text/plain": [
              "<Axes: xlabel='freetime', ylabel='Walc'>"
            ]
          },
          "metadata": {},
          "execution_count": 13
        },
        {
          "output_type": "display_data",
          "data": {
            "text/plain": [
              "<Figure size 640x480 with 1 Axes>"
            ],
            "image/png": "[encoded data removed]"
          },
          "metadata": {}
        }
      ]
    },
    {
      "cell_type": "markdown",
      "id": "df81650f",
      "metadata": {
        "id": "df81650f"
      },
      "source": [
        "Respuesta:"
      ]
    },
    {
      "cell_type": "markdown",
      "source": [
        "Se puede concluir que no hay mucha diferencia entre el consumo de alcohol de los estudiantes con padres separados y que consumen los fines de semana en su tiempo libre. Es muy poca la diferencia en todas las categorias de tiempo libre, solo se puede ver una leve distincion entre los que tienen mucho tiempo libre, y los que tienen poco tiempo libre, en ambos casos consumen mas los que tienen padres separados."
      ],
      "metadata": {
        "id": "71kK4aA5GGXk"
      },
      "id": "71kK4aA5GGXk"
    },
    {
      "cell_type": "markdown",
      "id": "a26fc2a4",
      "metadata": {
        "id": "a26fc2a4"
      },
      "source": [
        "## Histograma\n",
        "***\n",
        "\n",
        "Es necesario que se haga un análisis que quede escrito en una celda de texto por cada punto.\n",
        "\n",
        "#### a) Analizar la **distribución** de la variable age."
      ]
    },
    {
      "cell_type": "code",
      "execution_count": 28,
      "id": "c075ca5c",
      "metadata": {
        "id": "c075ca5c",
        "colab": {
          "base_uri": "https://localhost:8080/",
          "height": 657
        },
        "outputId": "8559c20e-ff1b-4ddb-d034-0779f822efe7"
      },
      "outputs": [
        {
          "output_type": "stream",
          "name": "stderr",
          "text": [
            "<ipython-input-28-37ba57f96bbf>:1: UserWarning: \n",
            "\n",
            "`distplot` is a deprecated function and will be removed in seaborn v0.14.0.\n",
            "\n",
            "Please adapt your code to use either `displot` (a figure-level function with\n",
            "similar flexibility) or `histplot` (an axes-level function for histograms).\n",
            "\n",
            "For a guide to updating your code to use the new functions, please see\n",
            "https://gist.github.com/mwaskom/de44147ed2974457ad6372750bbe5751\n",
            "\n",
            "  sns.distplot(df['age'], bins=7, kde=False, color='#9381ff')\n"
          ]
        },
        {
          "output_type": "execute_result",
          "data": {
            "text/plain": [
              "<Axes: xlabel='age'>"
            ]
          },
          "metadata": {},
          "execution_count": 28
        },
        {
          "output_type": "display_data",
          "data": {
            "text/plain": [
              "<Figure size 640x480 with 1 Axes>"
            ],
            "image/png": "[encoded data removed]"
          },
          "metadata": {}
        }
      ],
      "source": [
        "sns.distplot(df['age'], bins=7, kde=False, color='#9381ff')"
      ]
    },
    {
      "cell_type": "markdown",
      "id": "89264ea8",
      "metadata": {
        "id": "89264ea8"
      },
      "source": [
        "Respuesta:"
      ]
    },
    {
      "cell_type": "markdown",
      "source": [
        "Se observa mayor concentracion de estudiantes de edades entre 15 a 18 años en el dataset y pocos estudiantes de 20 años en adelante"
      ],
      "metadata": {
        "id": "uiI-XpjKG_wR"
      },
      "id": "uiI-XpjKG_wR"
    },
    {
      "cell_type": "markdown",
      "id": "b502a4d6",
      "metadata": {
        "id": "b502a4d6"
      },
      "source": [
        "#### b) Analizar la **distribución** de la variable studytime."
      ]
    },
    {
      "cell_type": "code",
      "execution_count": 29,
      "id": "cacce963",
      "metadata": {
        "id": "cacce963",
        "colab": {
          "base_uri": "https://localhost:8080/",
          "height": 657
        },
        "outputId": "07a59fdb-efe7-4d9c-8bdd-61ee0c038e9c"
      },
      "outputs": [
        {
          "output_type": "stream",
          "name": "stderr",
          "text": [
            "<ipython-input-29-f0fba36ce326>:1: UserWarning: \n",
            "\n",
            "`distplot` is a deprecated function and will be removed in seaborn v0.14.0.\n",
            "\n",
            "Please adapt your code to use either `displot` (a figure-level function with\n",
            "similar flexibility) or `histplot` (an axes-level function for histograms).\n",
            "\n",
            "For a guide to updating your code to use the new functions, please see\n",
            "https://gist.github.com/mwaskom/de44147ed2974457ad6372750bbe5751\n",
            "\n",
            "  sns.distplot(df['studytime'], bins=3, kde=False, color='#9381ff')\n"
          ]
        },
        {
          "output_type": "execute_result",
          "data": {
            "text/plain": [
              "<Axes: xlabel='studytime'>"
            ]
          },
          "metadata": {},
          "execution_count": 29
        },
        {
          "output_type": "display_data",
          "data": {
            "text/plain": [
              "<Figure size 640x480 with 1 Axes>"
            ],
            "image/png": "[encoded data removed]"
          },
          "metadata": {}
        }
      ],
      "source": [
        "sns.distplot(df['studytime'], bins=3, kde=False, color='#9381ff')"
      ]
    },
    {
      "cell_type": "markdown",
      "id": "22389780",
      "metadata": {
        "id": "22389780"
      },
      "source": [
        "Respuesta:"
      ]
    },
    {
      "cell_type": "markdown",
      "source": [
        "Se visualiza que hay una mayor concentracion de estudiantes que estudian 2 horas en adelante, muy pocos los que estudian entre 3.5 y 4 hs diarias. Por lo tanto se concluye que no dedican muchas horas diarias a estudiar."
      ],
      "metadata": {
        "id": "I-gBVtRLHYzh"
      },
      "id": "I-gBVtRLHYzh"
    },
    {
      "cell_type": "markdown",
      "id": "1c088e8c",
      "metadata": {
        "id": "1c088e8c"
      },
      "source": [
        "## Diagrama de densidad\n",
        "***\n",
        "Es necesario que se haga un análisis que quede escrito en una celda de texto por cada punto.\n",
        "\n",
        "#### a) Analizar la **distribución** de la variable age."
      ]
    },
    {
      "cell_type": "code",
      "execution_count": 23,
      "id": "9fc565b5",
      "metadata": {
        "id": "9fc565b5",
        "colab": {
          "base_uri": "https://localhost:8080/",
          "height": 659
        },
        "outputId": "418e33d5-9cbf-4819-cb8f-14f629edc88e"
      },
      "outputs": [
        {
          "output_type": "stream",
          "name": "stderr",
          "text": [
            "<ipython-input-23-6632833c381b>:1: UserWarning: \n",
            "\n",
            "`distplot` is a deprecated function and will be removed in seaborn v0.14.0.\n",
            "\n",
            "Please adapt your code to use either `displot` (a figure-level function with\n",
            "similar flexibility) or `kdeplot` (an axes-level function for kernel density plots).\n",
            "\n",
            "For a guide to updating your code to use the new functions, please see\n",
            "https://gist.github.com/mwaskom/de44147ed2974457ad6372750bbe5751\n",
            "\n",
            "  sns.distplot(df['age'], hist= False, color='#9381ff')\n"
          ]
        },
        {
          "output_type": "execute_result",
          "data": {
            "text/plain": [
              "<Axes: xlabel='age', ylabel='Density'>"
            ]
          },
          "metadata": {},
          "execution_count": 23
        },
        {
          "output_type": "display_data",
          "data": {
            "text/plain": [
              "<Figure size 640x480 with 1 Axes>"
            ],
            "image/png": "[encoded data removed]"
          },
          "metadata": {}
        }
      ],
      "source": [
        "sns.distplot(df['age'], hist= False, color='#9381ff')"
      ]
    },
    {
      "cell_type": "markdown",
      "id": "cfa71ab8",
      "metadata": {
        "id": "cfa71ab8"
      },
      "source": [
        "Respuesta:"
      ]
    },
    {
      "cell_type": "markdown",
      "source": [
        "Mayormente se visualiza una concentracion de estudiantes que tienen entre 15 y 18 años."
      ],
      "metadata": {
        "id": "w2-lYgJsH2Th"
      },
      "id": "w2-lYgJsH2Th"
    },
    {
      "cell_type": "markdown",
      "id": "7f6bd2d4",
      "metadata": {
        "id": "7f6bd2d4"
      },
      "source": [
        "#### b) Analizar la **distribución** de la variable studytime."
      ]
    },
    {
      "cell_type": "code",
      "execution_count": 22,
      "id": "7ae955e1",
      "metadata": {
        "id": "7ae955e1",
        "colab": {
          "base_uri": "https://localhost:8080/",
          "height": 571
        },
        "outputId": "a93e0e69-f69c-4c21-dd0c-484bdcc11d01"
      },
      "outputs": [
        {
          "output_type": "stream",
          "name": "stderr",
          "text": [
            "<ipython-input-22-57fd9e16766e>:1: FutureWarning: \n",
            "\n",
            "`shade` is now deprecated in favor of `fill`; setting `fill=True`.\n",
            "This will become an error in seaborn v0.14.0; please update your code.\n",
            "\n",
            "  sns.kdeplot(df['studytime'], shade=True, color='#9381ff')\n"
          ]
        },
        {
          "output_type": "execute_result",
          "data": {
            "text/plain": [
              "<Axes: xlabel='studytime', ylabel='Density'>"
            ]
          },
          "metadata": {},
          "execution_count": 22
        },
        {
          "output_type": "display_data",
          "data": {
            "text/plain": [
              "<Figure size 640x480 with 1 Axes>"
            ],
            "image/png": "[encoded data removed]"
          },
          "metadata": {}
        }
      ],
      "source": [
        "sns.kdeplot(df['studytime'], shade=True, color='#9381ff')"
      ]
    },
    {
      "cell_type": "markdown",
      "id": "2efedfaf",
      "metadata": {
        "id": "2efedfaf"
      },
      "source": [
        "Respuesta:"
      ]
    },
    {
      "cell_type": "markdown",
      "source": [
        "Se puede observar que la mayor densidad se encuentra entre 1.5 y 2.5 hs de estudio"
      ],
      "metadata": {
        "id": "QrHIw2K1IN3p"
      },
      "id": "QrHIw2K1IN3p"
    },
    {
      "cell_type": "markdown",
      "id": "ce7900af",
      "metadata": {
        "id": "ce7900af"
      },
      "source": [
        "## Boxplot\n",
        "***\n",
        "Es necesario que se haga un análisis que quede escrito en una celda de texto por cada punto.\n",
        "\n",
        "#### a) Realizar un **boxplot** con la variable age."
      ]
    },
    {
      "cell_type": "code",
      "execution_count": 20,
      "id": "5379c5be",
      "metadata": {
        "id": "5379c5be",
        "colab": {
          "base_uri": "https://localhost:8080/",
          "height": 423
        },
        "outputId": "311c2dce-ca1a-4f39-9e7b-d097c7a5e760"
      },
      "outputs": [
        {
          "output_type": "execute_result",
          "data": {
            "text/plain": [
              "<Axes: ylabel='age'>"
            ]
          },
          "metadata": {},
          "execution_count": 20
        },
        {
          "output_type": "display_data",
          "data": {
            "text/plain": [
              "<Figure size 640x480 with 1 Axes>"
            ],
            "image/png": "[encoded data removed]"
          },
          "metadata": {}
        }
      ],
      "source": [
        "sns.boxplot(y='age', orient='v', data=df, color='#9381ff')"
      ]
    },
    {
      "cell_type": "markdown",
      "id": "8ab50e43",
      "metadata": {
        "id": "8ab50e43"
      },
      "source": [
        "Respuesta:"
      ]
    },
    {
      "cell_type": "markdown",
      "source": [
        "El 50% de las edades estan comprendidas entre 16 y 18 años, la mediana es igual a 17.\n",
        "Podemos observar un estudiante de 22 años que es un dato atípico."
      ],
      "metadata": {
        "id": "PiQdtGVK0qE2"
      },
      "id": "PiQdtGVK0qE2"
    },
    {
      "cell_type": "markdown",
      "id": "320779e9",
      "metadata": {
        "id": "320779e9"
      },
      "source": [
        "#### b) Realizar un **boxplot** con la variable age, separando por sexo.."
      ]
    },
    {
      "cell_type": "code",
      "execution_count": 21,
      "id": "cb64e1f0",
      "metadata": {
        "id": "cb64e1f0",
        "colab": {
          "base_uri": "https://localhost:8080/",
          "height": 423
        },
        "outputId": "5fa9993b-b192-4306-9b96-e89faa97864d"
      },
      "outputs": [
        {
          "output_type": "execute_result",
          "data": {
            "text/plain": [
              "<Axes: ylabel='age'>"
            ]
          },
          "metadata": {},
          "execution_count": 21
        },
        {
          "output_type": "display_data",
          "data": {
            "text/plain": [
              "<Figure size 640x480 with 1 Axes>"
            ],
            "image/png": "[encoded data removed]"
          },
          "metadata": {}
        }
      ],
      "source": [
        "sns.boxplot(y='age', hue='sex', orient='v', data=df, palette=['#ffafcc', '#a2d2ff'])"
      ]
    },
    {
      "cell_type": "markdown",
      "id": "fff4033e",
      "metadata": {
        "id": "fff4033e"
      },
      "source": [
        "Respuesta:"
      ]
    },
    {
      "cell_type": "markdown",
      "source": [
        "Las edades de los estudiantes hombres del dataset son mas dispersas que las edades de las estudiantes mujeres.\n",
        "El dato atípico forma parte de los hombres.\n",
        "La mediana en los hombres se encuentra en los 16 años, y la mediana de las muejeres se encuentra en los 17 años."
      ],
      "metadata": {
        "id": "_2SnNf5g1B0j"
      },
      "id": "_2SnNf5g1B0j"
    },
    {
      "cell_type": "markdown",
      "id": "1e9f0dab",
      "metadata": {
        "id": "1e9f0dab"
      },
      "source": [
        "## Violin plot\n",
        "***\n",
        "\n",
        "Es necesario que se haga un análisis que quede escrito en una celda de texto por cada punto.\n",
        "\n",
        "#### a) Realizar un boxplot con la variable age."
      ]
    },
    {
      "cell_type": "code",
      "execution_count": 31,
      "id": "94c8f56f",
      "metadata": {
        "id": "94c8f56f",
        "colab": {
          "base_uri": "https://localhost:8080/",
          "height": 424
        },
        "outputId": "edd2c1b8-59aa-4df7-c9ba-4f70f267c966"
      },
      "outputs": [
        {
          "output_type": "execute_result",
          "data": {
            "text/plain": [
              "<Axes: ylabel='age'>"
            ]
          },
          "metadata": {},
          "execution_count": 31
        },
        {
          "output_type": "display_data",
          "data": {
            "text/plain": [
              "<Figure size 640x480 with 1 Axes>"
            ],
            "image/png": "[encoded data removed]"
          },
          "metadata": {}
        }
      ],
      "source": [
        "sns.violinplot(y='age', orient='v', data=df, color='#9381ff' )"
      ]
    },
    {
      "cell_type": "markdown",
      "id": "9d611da8",
      "metadata": {
        "id": "9d611da8"
      },
      "source": [
        "Respuesta:"
      ]
    },
    {
      "cell_type": "markdown",
      "source": [
        "El 50% de ñas edades estan comprendidas entre los 16 y los 18 años.\n",
        "La mediana es igual a 17.\n",
        "Mayor frecuencia en estudiantes de 16 años."
      ],
      "metadata": {
        "id": "lWGk1Ldz2oWD"
      },
      "id": "lWGk1Ldz2oWD"
    },
    {
      "cell_type": "markdown",
      "id": "f1a27da4",
      "metadata": {
        "id": "f1a27da4"
      },
      "source": [
        "#### b) Realizar un boxplot con la variable age, separando por sexo."
      ]
    },
    {
      "cell_type": "code",
      "execution_count": 32,
      "id": "5b9120b7",
      "metadata": {
        "id": "5b9120b7",
        "colab": {
          "base_uri": "https://localhost:8080/",
          "height": 553
        },
        "outputId": "113146b6-744d-45d8-857f-8505df2acad1"
      },
      "outputs": [
        {
          "output_type": "stream",
          "name": "stderr",
          "text": [
            "<ipython-input-32-2a084f56fb33>:1: FutureWarning: \n",
            "\n",
            "Passing `palette` without assigning `hue` is deprecated and will be removed in v0.14.0. Assign the `x` variable to `hue` and set `legend=False` for the same effect.\n",
            "\n",
            "  sns.violinplot(x='sex', y='age', orient='v', data=df, palette=['#ffafcc', '#a2d2ff'])\n"
          ]
        },
        {
          "output_type": "execute_result",
          "data": {
            "text/plain": [
              "<Axes: xlabel='sex', ylabel='age'>"
            ]
          },
          "metadata": {},
          "execution_count": 32
        },
        {
          "output_type": "display_data",
          "data": {
            "text/plain": [
              "<Figure size 640x480 with 1 Axes>"
            ],
            "image/png": "[encoded data removed]"
          },
          "metadata": {}
        }
      ],
      "source": [
        "sns.violinplot(x='sex', y='age', orient='v', data=df, palette=['#ffafcc', '#a2d2ff'])"
      ]
    },
    {
      "cell_type": "markdown",
      "id": "87da054b",
      "metadata": {
        "id": "87da054b"
      },
      "source": [
        "Respuesta:"
      ]
    },
    {
      "cell_type": "markdown",
      "source": [
        "Las edades de los estudiantes hombres del dataset son mas dispersas que las edades de las estudiantes mujeres.\n",
        "La edas mas frecuente en las estudianres mujeres es de 16 años y en los estudiantes hombres de 16 años."
      ],
      "metadata": {
        "id": "Af8FsJgg3IlD"
      },
      "id": "Af8FsJgg3IlD"
    }
  ],
  "metadata": {
    "kernelspec": {
      "display_name": "Python 3",
      "language": "python",
      "name": "python3"
    },
    "language_info": {
      "codemirror_mode": {
        "name": "ipython",
        "version": 3
      },
      "file_extension": ".py",
      "mimetype": "text/x-python",
      "name": "python",
      "nbconvert_exporter": "python",
      "pygments_lexer": "ipython3",
      "version": "3.8.10"
    },
    "colab": {
      "provenance": [],
      "include_colab_link": true
    }
  },
  "nbformat": 4,
  "nbformat_minor": 5
}